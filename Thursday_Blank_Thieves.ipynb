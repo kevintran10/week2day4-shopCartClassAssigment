{
 "cells": [
  {
   "cell_type": "markdown",
   "metadata": {},
   "source": [
    "# Object-Oriented-Programming (OOP)"
   ]
  },
  {
   "cell_type": "markdown",
   "metadata": {},
   "source": [
    "## Tasks Today:\n",
    "\n",
    "   \n",
    "\n",
    "1) <b>Creating a Class (Initializing/Declaring)</b> <br>\n",
    "2) <b>Using a Class (Instantiating)</b> <br>\n",
    " &nbsp;&nbsp;&nbsp;&nbsp; a) Creating One Instance <br>\n",
    " &nbsp;&nbsp;&nbsp;&nbsp; b) Creating Multiple Instances <br>\n",
    " &nbsp;&nbsp;&nbsp;&nbsp; c) In-Class Exercise #1 - Create a Class 'Car' and instantiate three different makes of cars <br>\n",
    "3) <b>The \\__init\\__() Method</b> <br>\n",
    " &nbsp;&nbsp;&nbsp;&nbsp; a) The 'self' Attribute <br>\n",
    "4) <b>Class Attributes</b> <br>\n",
    " &nbsp;&nbsp;&nbsp;&nbsp; a) Initializing Attributes <br>\n",
    " &nbsp;&nbsp;&nbsp;&nbsp; b) Setting an Attribute Outside of the \\__init\\__() Method <br>\n",
    " &nbsp;&nbsp;&nbsp;&nbsp; c) Setting Defaults for Attributes <br>\n",
    " &nbsp;&nbsp;&nbsp;&nbsp; d) Accessing Class Attributes <br>\n",
    " &nbsp;&nbsp;&nbsp;&nbsp; e) Changing Class Attributes <br>\n",
    " &nbsp;&nbsp;&nbsp;&nbsp; f) In-Class Exercise #2 - Add a color and wheels attribute to your 'Car' class <br>\n",
    "5) <b>Class Methods</b> <br>\n",
    " &nbsp;&nbsp;&nbsp;&nbsp; a) Creating <br>\n",
    " &nbsp;&nbsp;&nbsp;&nbsp; b) Calling <br>\n",
    " &nbsp;&nbsp;&nbsp;&nbsp; c) Modifying an Attribute's Value Through a Method <br>\n",
    " &nbsp;&nbsp;&nbsp;&nbsp; d) Incrementing an Attribute's Value Through a Method <br>\n",
    " &nbsp;&nbsp;&nbsp;&nbsp; e) In-Class Exercise #3 - Add a method that prints the cars color and wheel number, then call them <br>\n",
    "6) <b>Inheritance</b> <br>\n",
    " &nbsp;&nbsp;&nbsp;&nbsp; a) Syntax for Inheriting from a Parent Class <br>\n",
    " &nbsp;&nbsp;&nbsp;&nbsp; b) The \\__init\\__() Method for a Child Class (super()) <br>\n",
    " &nbsp;&nbsp;&nbsp;&nbsp; c) Defining Attributes and Methods for the Child Class <br>\n",
    " &nbsp;&nbsp;&nbsp;&nbsp; d) Method Overriding <br>\n",
    " &nbsp;&nbsp;&nbsp;&nbsp; e) In-Class Exercise #4 - Create a class 'Ford' that inherits from 'Car' class and initialize it as a Blue Ford Explorer with 4 wheels using the super() method <br>\n",
    "7) <b>Exercises</b> <br>\n",
    " &nbsp;&nbsp;&nbsp;&nbsp; a) Exercise #1 - Turn the shopping cart program from yesterday into an object-oriented program <br>"
   ]
  },
  {
   "cell_type": "markdown",
   "metadata": {},
   "source": [
    "## Creating a Class (Initializing/Declaring)\n",
    "<p>When creating a class, function, or even a variable you are initializing that object. Initializing and Declaring occur at the same time in Python, whereas in lower level languages you have to declare an object before initializing it. This is the first step in the process of using a class.</p>"
   ]
  },
  {
   "cell_type": "code",
   "execution_count": 1,
   "metadata": {},
   "outputs": [],
   "source": [
    "class Car():\n",
    "    wheels = 4\n",
    "    color = 'blue'\n",
    "\n"
   ]
  },
  {
   "cell_type": "markdown",
   "metadata": {},
   "source": [
    "## Using a Class (Instantiating)\n",
    "<p>The process of creating a class is called <i>Instantiating</i>. Each time you create a variable of that type of class, it is referred to as an <i>Instance</i> of that class. This is the second step in the process of using a class.</p>"
   ]
  },
  {
   "cell_type": "markdown",
   "metadata": {},
   "source": [
    "##### Creating One Instance"
   ]
  },
  {
   "cell_type": "code",
   "execution_count": 3,
   "metadata": {},
   "outputs": [
    {
     "name": "stdout",
     "output_type": "stream",
     "text": [
      "4\n"
     ]
    }
   ],
   "source": [
    "ford = Car()\n",
    "print(ford.wheels)\n"
   ]
  },
  {
   "cell_type": "markdown",
   "metadata": {},
   "source": [
    "##### Creating Multiple Instances"
   ]
  },
  {
   "cell_type": "code",
   "execution_count": 4,
   "metadata": {},
   "outputs": [
    {
     "name": "stdout",
     "output_type": "stream",
     "text": [
      "blue\n"
     ]
    }
   ],
   "source": [
    "nissan = Car()\n",
    "chevy = Car()\n",
    "lambo = Car()\n",
    "\n",
    "print(nissan.color)\n"
   ]
  },
  {
   "cell_type": "markdown",
   "metadata": {},
   "source": [
    "##### In-Class Exercise #1 - Create a Class 'Car' and Instantiate three different makes of cars"
   ]
  },
  {
   "cell_type": "code",
   "execution_count": 9,
   "metadata": {},
   "outputs": [
    {
     "ename": "NameError",
     "evalue": "name 'Sedan' is not defined",
     "output_type": "error",
     "traceback": [
      "\u001b[1;31m---------------------------------------------------------------------------\u001b[0m",
      "\u001b[1;31mNameError\u001b[0m                                 Traceback (most recent call last)",
      "\u001b[1;32mc:\\Users\\ktran\\Desktop\\CodingTemple\\Code\\Thieves_133\\Week2\\Day4\\Thursday_Blank_Thieves.ipynb Cell 11\u001b[0m line \u001b[0;36m1\n\u001b[1;32m----> <a href='vscode-notebook-cell:/c%3A/Users/ktran/Desktop/CodingTemple/Code/Thieves_133/Week2/Day4/Thursday_Blank_Thieves.ipynb#X13sZmlsZQ%3D%3D?line=0'>1</a>\u001b[0m lexus \u001b[39m=\u001b[39m Sedan()\n\u001b[0;32m      <a href='vscode-notebook-cell:/c%3A/Users/ktran/Desktop/CodingTemple/Code/Thieves_133/Week2/Day4/Thursday_Blank_Thieves.ipynb#X13sZmlsZQ%3D%3D?line=1'>2</a>\u001b[0m toyota \u001b[39m=\u001b[39m Sedan()\n\u001b[0;32m      <a href='vscode-notebook-cell:/c%3A/Users/ktran/Desktop/CodingTemple/Code/Thieves_133/Week2/Day4/Thursday_Blank_Thieves.ipynb#X13sZmlsZQ%3D%3D?line=2'>3</a>\u001b[0m mercedes \u001b[39m=\u001b[39m Sedan()\n",
      "\u001b[1;31mNameError\u001b[0m: name 'Sedan' is not defined"
     ]
    }
   ],
   "source": [
    "lexus = Sedan()\n",
    "toyota = Sedan()\n",
    "mercedes = Sedan()\n",
    "\n",
    "print(lexus.wheels)\n",
    "print(lexus.color)\n",
    "print(toyota.color)\n",
    "print(mercedes.wheels)"
   ]
  },
  {
   "cell_type": "markdown",
   "metadata": {},
   "source": [
    "## The \\__init\\__() Method <br>\n",
    "<p>This method is used in almost every created class, and called only once upon the creation of the class instance. This method will initialize all variables needed for the object.</p>"
   ]
  },
  {
   "cell_type": "code",
   "execution_count": 13,
   "metadata": {},
   "outputs": [
    {
     "name": "stdout",
     "output_type": "stream",
     "text": [
      "Philadelphia\n",
      "USA\n",
      "USA\n"
     ]
    }
   ],
   "source": [
    "class NflTeam():\n",
    "    country = 'USA'\n",
    "    def __init__(self, city, name):       #aka Constructor,  dunder init method\n",
    "        self.city = city      #instance properties\n",
    "        self.name = name\n",
    "\n",
    "eagles = NflTeam('Philadelphia', 'Eagles')\n",
    "print(eagles.city)\n",
    "broncos= NflTeam('Denver', 'Broncos')\n",
    "print(broncos.country)\n",
    "print(eagles.country)"
   ]
  },
  {
   "cell_type": "markdown",
   "metadata": {},
   "source": [
    "##### The 'self' Attribute <br>\n",
    "<p>This attribute is required to keep track of specific instance's attributes. Without the self attribute, the program would not know how to reference or keep track of an instance's attributes.</p>"
   ]
  },
  {
   "cell_type": "code",
   "execution_count": null,
   "metadata": {},
   "outputs": [],
   "source": [
    "# see above"
   ]
  },
  {
   "cell_type": "markdown",
   "metadata": {},
   "source": [
    "## Class Attributes <br>\n",
    "<p>While variables are inside of a class, they are referred to as attributes and not variables. When someone says 'attribute' you know they're speaking about a class. Attributes can be initialized through the init method, or outside of it.</p>"
   ]
  },
  {
   "cell_type": "markdown",
   "metadata": {},
   "source": [
    "##### Initializing Attributes"
   ]
  },
  {
   "cell_type": "code",
   "execution_count": null,
   "metadata": {},
   "outputs": [],
   "source": [
    "# see above"
   ]
  },
  {
   "cell_type": "markdown",
   "metadata": {},
   "source": [
    "##### Accessing Class Attributes"
   ]
  },
  {
   "cell_type": "code",
   "execution_count": null,
   "metadata": {
    "scrolled": true
   },
   "outputs": [],
   "source": [
    "# See Above"
   ]
  },
  {
   "cell_type": "markdown",
   "metadata": {},
   "source": [
    "##### Setting Defaults for Attributes"
   ]
  },
  {
   "cell_type": "code",
   "execution_count": 23,
   "metadata": {},
   "outputs": [
    {
     "name": "stdout",
     "output_type": "stream",
     "text": [
      "2019\n",
      "Miami\n",
      "Heat\n"
     ]
    },
    {
     "data": {
      "text/plain": [
       "{'city': 'San Diego', 'name': 'Heat', 'year': 2019}"
      ]
     },
     "execution_count": 23,
     "metadata": {},
     "output_type": "execute_result"
    }
   ],
   "source": [
    "class NbaTeam():      #always keep it singular not plural\n",
    "    def __init__(self, city, name, year=2023):\n",
    "        self.city = city\n",
    "        self.name = name\n",
    "        self.year = year     #still put in year just in case it's not 2023 year\n",
    "\n",
    "heat = NbaTeam('Miami', 'Heat', 2019)\n",
    "print(heat.year)\n",
    "print(heat.city)\n",
    "print(heat.name)\n",
    "\n",
    "# Changing an instance property\n",
    "heat.city  = 'San Diego'\n",
    "\n",
    "# Viewing propertie as a dictionary\n",
    "heat.__dict__   # __dict__    --> {'city': 'San Diego', 'name': 'Heat', 'year': 2019}"
   ]
  },
  {
   "attachments": {},
   "cell_type": "markdown",
   "metadata": {},
   "source": [
    "##### Changing Instance Attributes <br>\n",
    "<p>Keep in mind there are global class attributes and then there are attributes only available to each class instance which won't effect other classes.</p>"
   ]
  },
  {
   "cell_type": "code",
   "execution_count": null,
   "metadata": {},
   "outputs": [],
   "source": [
    "# see above"
   ]
  },
  {
   "cell_type": "markdown",
   "metadata": {},
   "source": [
    "##### In-Class Exercise #2 - Add a doors and seats attribute to your 'Car' class then print out two different instances with different doors and seats"
   ]
  },
  {
   "cell_type": "code",
   "execution_count": 28,
   "metadata": {},
   "outputs": [
    {
     "name": "stdout",
     "output_type": "stream",
     "text": [
      "2 doors\n",
      "2 seats\n",
      "4 doors\n",
      "7 seats\n"
     ]
    }
   ],
   "source": [
    "class Car():\n",
    "    def __init__(self, doors, seats):\n",
    "        self.doors = doors\n",
    "        self.seats = seats\n",
    "\n",
    "nissan = Car('2 doors', '2 seats')\n",
    "print(nissan.doors)\n",
    "print(nissan.seats)\n",
    "\n",
    "honda = Car('4 doors', '7 seats')\n",
    "print(honda.doors)\n",
    "print(honda.seats)"
   ]
  },
  {
   "cell_type": "markdown",
   "metadata": {},
   "source": [
    "## Class Methods <br>\n",
    "<p>While inside of a class, functions are referred to as 'methods'. If you hear someone mention methods, they're speaking about classes. Methods are essentially functions, but only callable on the instances of a class.</p>"
   ]
  },
  {
   "cell_type": "markdown",
   "metadata": {},
   "source": [
    "##### Creating"
   ]
  },
  {
   "cell_type": "code",
   "execution_count": 31,
   "metadata": {},
   "outputs": [
    {
     "name": "stdout",
     "output_type": "stream",
     "text": [
      "Invalid input, please try again...\n",
      "jeremy lin was added to your roster!\n",
      "Your current roster is {'jeremy lin': 1}\n",
      "white mamba was added to your roster!\n",
      "Your current roster is {'jeremy lin': 1, 'white mamba': 69}\n",
      "Your roster has 2\n",
      "----------Current roster----------\n",
      "jeremy lin 1\n",
      "white mamba 69\n"
     ]
    }
   ],
   "source": [
    "class Roster():\n",
    "    def __init__(self):\n",
    "        self.depth_chart = {}\n",
    "        self.num_of_players = 0\n",
    "\n",
    "    def addPlayer(self):\n",
    "        name = input('What player would you like to add to your roster?')\n",
    "        jersey_num = int(input(f'What number will {name} have?'))\n",
    "        self.depth_chart[name] = jersey_num\n",
    "        self.num_of_players += 1\n",
    "        print(f'{name} was added to your roster!')\n",
    "        print(f'Your current roster is {self.depth_chart}')\n",
    "\n",
    "    def removePlayer(self):\n",
    "        name = input('What player would you like to remove from your roster?')\n",
    "        if (name in self.depth_chart):\n",
    "            del self.depth_chart[name]\n",
    "            self.num_of_players -= 1\n",
    "            print(f'{name} has been removed from your roster!')\n",
    "            print(f'Your current roster is {self.depth_chart}.')\n",
    "        else:\n",
    "            print(f'{name} is not on your team.')\n",
    "    \n",
    "    def showRoster(self):\n",
    "        print(f'Your roster has {self.num_of_players}')\n",
    "        print('----------Current roster----------')\n",
    "        for key,value in self.depth_chart.items():\n",
    "            print(key,value)\n",
    "\n",
    "    def runner(self):\n",
    "        while True:\n",
    "            choice = input('What would you like to do? (add, remove, show or quit').lower()\n",
    "            if (choice == 'quit'):\n",
    "                break\n",
    "            elif (choice == 'add'):\n",
    "                self.addPlayer()\n",
    "            elif (choice == 'remove'):\n",
    "                self.removePlayer()\n",
    "            elif (choice == 'show'):\n",
    "                self.showRoster()\n",
    "            else:\n",
    "                print('Invalid input, please try again...')\n",
    "\n",
    "thievesRoster = Roster()\n",
    "# thievesRoster.addPlayer()\n",
    "# thievesRoster.addPlayer()\n",
    "# thievesRoster.addPlayer()\n",
    "# thievesRoster.removePlayer()\n",
    "# thievesRoster.showRoster()\n",
    "thievesRoster.runner()"
   ]
  },
  {
   "cell_type": "markdown",
   "metadata": {},
   "source": [
    "##### Calling"
   ]
  },
  {
   "cell_type": "code",
   "execution_count": null,
   "metadata": {},
   "outputs": [],
   "source": [
    "# See Above"
   ]
  },
  {
   "cell_type": "markdown",
   "metadata": {},
   "source": [
    "##### Modifying an Attribute's Value Through a Method"
   ]
  },
  {
   "cell_type": "code",
   "execution_count": null,
   "metadata": {},
   "outputs": [],
   "source": [
    "# see above\n"
   ]
  },
  {
   "cell_type": "markdown",
   "metadata": {},
   "source": [
    "##### Incrementing an Attribute's Value Through a Method"
   ]
  },
  {
   "cell_type": "code",
   "execution_count": null,
   "metadata": {},
   "outputs": [],
   "source": [
    "# see above\n"
   ]
  },
  {
   "cell_type": "markdown",
   "metadata": {},
   "source": [
    "## Inheritance <br>\n",
    "<p>You can create a child-parent relationship between two classes by using inheritance. What this allows you to do is have overriding methods, but also inherit traits from the parent class. Think of it as an actual parent and child, the child will inherit the parent's genes, as will the classes in OOP</p>"
   ]
  },
  {
   "cell_type": "markdown",
   "metadata": {},
   "source": [
    "##### Syntax for Inheriting from a Parent Class"
   ]
  },
  {
   "cell_type": "code",
   "execution_count": 34,
   "metadata": {},
   "outputs": [
    {
     "data": {
      "text/plain": [
       "{'city': 'LA',\n",
       " 'name': 'Lakers',\n",
       " 'year': 2023,\n",
       " 'depth_chart': {},\n",
       " 'num_of_players': 0}"
      ]
     },
     "execution_count": 34,
     "metadata": {},
     "output_type": "execute_result"
    }
   ],
   "source": [
    "class NbaTeam():    # Parent Class                            #always keep it singular not plural\n",
    "    def __init__(self, city, name, year=2023):\n",
    "        self.city = city\n",
    "        self.name = name\n",
    "        self.year = year\n",
    "\n",
    "    def printInfo(self):\n",
    "        return f'The {self.name} are from {self.city}.'\n",
    "\n",
    "\n",
    "class Roster(NbaTeam):      # Child Class\n",
    "    def __init__(self, city, name):\n",
    "        super().__init__(city, name)                # crucial step\n",
    "        self.depth_chart = {}\n",
    "        self.num_of_players = 0\n",
    "\n",
    "    def addPlayer(self):\n",
    "        name = input('What player would you like to add to {self.name}?')\n",
    "        jersey_num = int(input(f'What number will {name} have?'))\n",
    "        self.depth_chart[name] = jersey_num\n",
    "        self.num_of_players += 1\n",
    "        print(f'{name} was added to {self.name}!')\n",
    "        print(f'Your current roster is {self.depth_chart}')\n",
    "\n",
    "    def removePlayer(self):\n",
    "        name = input('What player would you like to remove from your roster?')\n",
    "        if (name in self.depth_chart):\n",
    "            del self.depth_chart[name]\n",
    "            self.num_of_players -= 1\n",
    "            print(f'{name} has been removed from your roster!')\n",
    "            print(f'Your current roster is {self.depth_chart}.')\n",
    "        else:\n",
    "            print(f'{name} is not on your team.')\n",
    "    \n",
    "    def showRoster(self):\n",
    "        print(f'Your roster has {self.num_of_players}')\n",
    "        print('----------Current roster----------')\n",
    "        for key,value in self.depth_chart.items():\n",
    "            print(key,value)\n",
    "\n",
    "    def runner(self):\n",
    "        while True:\n",
    "            choice = input('What would you like to do? (add, remove, show or quit').lower()\n",
    "            if (choice == 'quit'):\n",
    "                break\n",
    "            elif (choice == 'add'):\n",
    "                self.addPlayer()\n",
    "            elif (choice == 'remove'):\n",
    "                self.removePlayer()\n",
    "            elif (choice == 'show'):\n",
    "                self.showRoster()\n",
    "            else:\n",
    "                print('Invalid input, please try again...')\n",
    "\n",
    "\n",
    "thievesTeam = NbaTeam('LA', 'Lakers')\n",
    "thievesRoster =Roster(thievesTeam.city, thievesTeam.name)\n",
    "thievesRoster.city\n",
    "thievesRoster.__dict__"
   ]
  },
  {
   "cell_type": "markdown",
   "metadata": {},
   "source": [
    "##### The \\__init\\__() Method for a Child Class - super()"
   ]
  },
  {
   "cell_type": "code",
   "execution_count": null,
   "metadata": {
    "scrolled": true
   },
   "outputs": [],
   "source": [
    "# see above"
   ]
  },
  {
   "cell_type": "markdown",
   "metadata": {},
   "source": [
    "##### Defining Attributes and Methods for the Child Class"
   ]
  },
  {
   "cell_type": "code",
   "execution_count": null,
   "metadata": {},
   "outputs": [],
   "source": [
    "# See Above"
   ]
  },
  {
   "cell_type": "markdown",
   "metadata": {},
   "source": [
    "# Exercises"
   ]
  },
  {
   "cell_type": "markdown",
   "metadata": {},
   "source": [
    "### Exercise 1 - Turn the shopping cart program from yesterday into an object-oriented program\n",
    "\n",
    "The comments in the cell below are there as a guide for thinking about the problem. However, if you feel a different way is best for you and your own thought process, please do what feels best for you by all means."
   ]
  },
  {
   "cell_type": "code",
   "execution_count": 4,
   "metadata": {},
   "outputs": [
    {
     "name": "stdout",
     "output_type": "stream",
     "text": [
      "apple has was added to apple.\n",
      "You currently have {'apple': 2} in your shopping cart\n",
      "Wrong input, please try something else. Thank you.\n",
      "banana has was added to apple.\n",
      "You currently have {'apple': 2, 'banana': 1} in your shopping cart\n",
      "Wrong input, please try something else. Thank you.\n",
      "chips has was added to apple.\n",
      "You currently have {'apple': 2, 'banana': 1, 'chips': 4} in your shopping cart\n",
      "Wrong input, please try something else. Thank you.\n",
      "Item(s) in your shopping cart: {'apple': 2, 'banana': 1, 'chips': 4}\n",
      "==========SHOPPING CART==========\n",
      "apple 2\n",
      "banana 1\n",
      "chips 4\n",
      "Item(s) in your shopping cart: {'apple': 2, 'banana': 1, 'chips': 4}\n",
      "==========SHOPPING CART==========\n",
      "apple 2\n",
      "banana 1\n",
      "chips 4\n",
      "Item(s) in your shopping cart: {'apple': 2, 'banana': 1, 'chips': 4}\n",
      "==========SHOPPING CART==========\n",
      "apple 2\n",
      "banana 1\n",
      "chips 4\n"
     ]
    }
   ],
   "source": [
    "# Create a class called cart that retains items and has methods to add, remove, and show\n",
    "class Cart():\n",
    "    def __init__(self, item, price):\n",
    "        self.item = item\n",
    "        self.price = price\n",
    "    def cartInfo(self):\n",
    "        return f\"These {self.item}'s cost ${self.price}.\"\n",
    "\n",
    "\n",
    "class Cart_list(Cart):\n",
    "    def __init__(self, item, price):\n",
    "        super().__init__(item, price)\n",
    "        self.item_list = {}\n",
    "        self.price_list = 0\n",
    "    \n",
    "    def addItem(self):\n",
    "        item = input('What item do you want to add to your?')\n",
    "        item_price = int(input(f'How much does {item} cost?'))\n",
    "        self.item_list[item] = item_price\n",
    "        self.price_list += 1\n",
    "        print(f'{item} has was added to {self.item}.')\n",
    "        print(f'You currently have {self.item_list} in your shopping cart')\n",
    "\n",
    "    def removeItem(self):\n",
    "        item = input('What item(s) would you like to remove from your shopping cart?')\n",
    "        if item in self.item_list:\n",
    "            del self.item_list[item]\n",
    "            self.price_list -= 1\n",
    "            print(f'{item} has been removed from your shopping cart.')\n",
    "            print(f'Your current shopping cart consists of {self.item_list}.')\n",
    "        else:\n",
    "            print(f'{item} is was not in your shopping cart.')\n",
    "    \n",
    "    def showCart(self):\n",
    "        print(f'Item(s) in your shopping cart: {self.item_list}')\n",
    "        print('==========SHOPPING CART==========')\n",
    "        for key,value in self.item_list.items():\n",
    "            print(key, value)\n",
    "    \n",
    "    def runner(self):\n",
    "        while True:\n",
    "            choice = input('What would you like to do? (add, remove, show or quit?').lower()\n",
    "            if choice == 'quit':\n",
    "                break\n",
    "            if choice == 'add':\n",
    "                self.addItem()\n",
    "            if choice == 'remove':\n",
    "                self.removeItem()\n",
    "            if choice == 'show':\n",
    "                self.showCart()\n",
    "            else:\n",
    "                print('Wrong input, please try something else. Thank you.')\n",
    "\n",
    "# kevinsCart = Cart('pizza', '5')\n",
    "# kevinsList = Cart_list(kevinsCart.item, kevinsCart.price)\n",
    "# kevinsList.item\n",
    "# kevinsList.price\n",
    "kevinsCart = Cart_list('apple', '$3.99')\n",
    "kevinsCart.runner()"
   ]
  },
  {
   "cell_type": "markdown",
   "metadata": {},
   "source": [
    "### Exercise 2 - Write a Python class which has two methods get_String and print_String. get_String accept a string from the user and print_String print the string in upper case"
   ]
  },
  {
   "cell_type": "code",
   "execution_count": 7,
   "metadata": {},
   "outputs": [
    {
     "ename": "AttributeError",
     "evalue": "'str' object has no attribute 'str'",
     "output_type": "error",
     "traceback": [
      "\u001b[1;31m---------------------------------------------------------------------------\u001b[0m",
      "\u001b[1;31mAttributeError\u001b[0m                            Traceback (most recent call last)",
      "\u001b[1;32mc:\\Users\\ktran\\Desktop\\CodingTemple\\Code\\Thieves_133\\Week2\\Day4\\Thursday_Blank_Thieves.ipynb Cell 47\u001b[0m line \u001b[0;36m1\n\u001b[0;32m      <a href='vscode-notebook-cell:/c%3A/Users/ktran/Desktop/CodingTemple/Code/Thieves_133/Week2/Day4/Thursday_Blank_Thieves.ipynb#X64sZmlsZQ%3D%3D?line=8'>9</a>\u001b[0m         \u001b[39mprint\u001b[39m(\u001b[39mself\u001b[39m\u001b[39m.\u001b[39mstr\u001b[39m.\u001b[39mupper())\n\u001b[0;32m     <a href='vscode-notebook-cell:/c%3A/Users/ktran/Desktop/CodingTemple/Code/Thieves_133/Week2/Day4/Thursday_Blank_Thieves.ipynb#X64sZmlsZQ%3D%3D?line=10'>11</a>\u001b[0m kevinString \u001b[39m=\u001b[39m someString()\n\u001b[1;32m---> <a href='vscode-notebook-cell:/c%3A/Users/ktran/Desktop/CodingTemple/Code/Thieves_133/Week2/Day4/Thursday_Blank_Thieves.ipynb#X64sZmlsZQ%3D%3D?line=11'>12</a>\u001b[0m someString\u001b[39m.\u001b[39;49mget_String(\u001b[39m'\u001b[39;49m\u001b[39mk\u001b[39;49m\u001b[39m'\u001b[39;49m)\n",
      "\u001b[1;32mc:\\Users\\ktran\\Desktop\\CodingTemple\\Code\\Thieves_133\\Week2\\Day4\\Thursday_Blank_Thieves.ipynb Cell 47\u001b[0m line \u001b[0;36m6\n\u001b[0;32m      <a href='vscode-notebook-cell:/c%3A/Users/ktran/Desktop/CodingTemple/Code/Thieves_133/Week2/Day4/Thursday_Blank_Thieves.ipynb#X64sZmlsZQ%3D%3D?line=4'>5</a>\u001b[0m \u001b[39mdef\u001b[39;00m \u001b[39mget_String\u001b[39m(\u001b[39mself\u001b[39m):\n\u001b[1;32m----> <a href='vscode-notebook-cell:/c%3A/Users/ktran/Desktop/CodingTemple/Code/Thieves_133/Week2/Day4/Thursday_Blank_Thieves.ipynb#X64sZmlsZQ%3D%3D?line=5'>6</a>\u001b[0m     \u001b[39mself\u001b[39;49m\u001b[39m.\u001b[39;49mstr \u001b[39m=\u001b[39m \u001b[39mstr\u001b[39m(\u001b[39minput\u001b[39m())\n",
      "\u001b[1;31mAttributeError\u001b[0m: 'str' object has no attribute 'str'"
     ]
    }
   ],
   "source": [
    "class someString():\n",
    "    def __init__(self):\n",
    "        self.str = \"\"\n",
    "    \n",
    "    def get_String(self):\n",
    "        self.str = input()\n",
    "\n",
    "    def print_String(self):\n",
    "        print(self.str.upper())\n",
    "\n",
    "kevinString = someString()\n",
    "someString.get_String('k')\n",
    "\n",
    "\n",
    "# Code isn't working properly, will try to re-submit"
   ]
  }
 ],
 "metadata": {
  "kernelspec": {
   "display_name": "Python 3",
   "language": "python",
   "name": "python3"
  },
  "language_info": {
   "codemirror_mode": {
    "name": "ipython",
    "version": 3
   },
   "file_extension": ".py",
   "mimetype": "text/x-python",
   "name": "python",
   "nbconvert_exporter": "python",
   "pygments_lexer": "ipython3",
   "version": "3.11.4"
  },
  "vscode": {
   "interpreter": {
    "hash": "aa82987a71ca0339a52998cd22613b0c002bda8349fa32a0cb67ceec3936a2bf"
   }
  }
 },
 "nbformat": 4,
 "nbformat_minor": 2
}
